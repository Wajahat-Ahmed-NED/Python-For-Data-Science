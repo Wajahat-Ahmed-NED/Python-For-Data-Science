{
 "cells": [
  {
   "cell_type": "markdown",
   "id": "235dcf17",
   "metadata": {},
   "source": [
    "# Object Oriented Programming"
   ]
  },
  {
   "cell_type": "raw",
   "id": "bed7eb57",
   "metadata": {},
   "source": [
    "-Object\n",
    "-Classes\n",
    "-Pillars Of OOP\n",
    "-Methods\n",
    "-Attributes"
   ]
  },
  {
   "cell_type": "raw",
   "id": "0acd9afc",
   "metadata": {},
   "source": [
    "What is OOP?\n",
    "Ans) It is a programming paradigm/style that allows us to bind data and methods together"
   ]
  },
  {
   "cell_type": "raw",
   "id": "28aea9d2",
   "metadata": {},
   "source": [
    "Object: Everything in python is a object\n",
    "    Object belongs to a class"
   ]
  },
  {
   "cell_type": "raw",
   "id": "f00b8eb9",
   "metadata": {},
   "source": [
    "First Samsung designed and developed in the lab and launched in the ceremony is called : Class\n",
    "    copies:Objects/instance"
   ]
  },
  {
   "cell_type": "code",
   "execution_count": 10,
   "id": "7329c1df",
   "metadata": {},
   "outputs": [],
   "source": [
    "class SamsungGalaxy():\n",
    "    #attributes/characteristics\n",
    "    ram=\"4gb\"\n",
    "    weight=\"124\"\n",
    "    color=\"grey\"\n",
    "    processor=\"4cores\"\n",
    "    camera=\"24mpx\"\n",
    "    battery=\"5000mAh\"\n",
    "    screen=\"5.4inch\"\n",
    "    #behaviour/actions   #function inside class is method\n",
    "    \n",
    "    def makeCall(self,message):\n",
    "        print(\"call \",message)\n",
    "    def recieveCall(self):\n",
    "        print(\"call\")\n",
    "    #class\n",
    "    pass"
   ]
  },
  {
   "cell_type": "code",
   "execution_count": 11,
   "id": "f4940710",
   "metadata": {},
   "outputs": [],
   "source": [
    "# Creating copies of phone\n",
    "apkaSamsung=SamsungGalaxy()"
   ]
  },
  {
   "cell_type": "code",
   "execution_count": 12,
   "id": "41c94dfd",
   "metadata": {},
   "outputs": [
    {
     "data": {
      "text/plain": [
       "'4gb'"
      ]
     },
     "execution_count": 12,
     "metadata": {},
     "output_type": "execute_result"
    }
   ],
   "source": [
    "apkaSamsung.ram"
   ]
  },
  {
   "cell_type": "code",
   "execution_count": 14,
   "id": "bb2f5006",
   "metadata": {},
   "outputs": [
    {
     "name": "stdout",
     "output_type": "stream",
     "text": [
      "call  ajao\n"
     ]
    }
   ],
   "source": [
    "apkaSamsung.makeCall(\"ajao\")"
   ]
  },
  {
   "cell_type": "code",
   "execution_count": 15,
   "id": "634bbc29",
   "metadata": {},
   "outputs": [],
   "source": [
    "meraSamsung=SamsungGalaxy()"
   ]
  },
  {
   "cell_type": "code",
   "execution_count": 16,
   "id": "f3ee5804",
   "metadata": {},
   "outputs": [
    {
     "data": {
      "text/plain": [
       "'4gb'"
      ]
     },
     "execution_count": 16,
     "metadata": {},
     "output_type": "execute_result"
    }
   ],
   "source": [
    "meraSamsung.ram"
   ]
  },
  {
   "cell_type": "code",
   "execution_count": 17,
   "id": "6aedb378",
   "metadata": {},
   "outputs": [],
   "source": [
    "#Every object has everything that is inside class"
   ]
  },
  {
   "cell_type": "code",
   "execution_count": 18,
   "id": "6b1a712c",
   "metadata": {},
   "outputs": [],
   "source": [
    "class Patient():\n",
    "    #some attributes same for every object (class attributes )\n",
    "    #some attributes different for every object (object/instance attributes)\n",
    "    name=\"Abdul\"\n",
    "    disease=\"fever\"\n",
    "    age=21\n",
    "    gender=\"male\"\n",
    "    "
   ]
  },
  {
   "cell_type": "code",
   "execution_count": 19,
   "id": "cb3240ba",
   "metadata": {},
   "outputs": [],
   "source": [
    "p1=Patient()"
   ]
  },
  {
   "cell_type": "code",
   "execution_count": 20,
   "id": "ebf8a3c2",
   "metadata": {},
   "outputs": [],
   "source": [
    "p2=Patient()\n"
   ]
  },
  {
   "cell_type": "code",
   "execution_count": 21,
   "id": "498126a5",
   "metadata": {},
   "outputs": [],
   "source": [
    "p3=Patient()\n"
   ]
  },
  {
   "cell_type": "code",
   "execution_count": null,
   "id": "8e6b680b",
   "metadata": {},
   "outputs": [],
   "source": []
  }
 ],
 "metadata": {
  "kernelspec": {
   "display_name": "Python 3 (ipykernel)",
   "language": "python",
   "name": "python3"
  },
  "language_info": {
   "codemirror_mode": {
    "name": "ipython",
    "version": 3
   },
   "file_extension": ".py",
   "mimetype": "text/x-python",
   "name": "python",
   "nbconvert_exporter": "python",
   "pygments_lexer": "ipython3",
   "version": "3.9.12"
  }
 },
 "nbformat": 4,
 "nbformat_minor": 5
}
