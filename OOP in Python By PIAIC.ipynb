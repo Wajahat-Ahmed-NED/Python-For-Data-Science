{
 "cells": [
  {
   "cell_type": "markdown",
   "id": "235dcf17",
   "metadata": {},
   "source": [
    "# Object Oriented Programming"
   ]
  },
  {
   "cell_type": "raw",
   "id": "bed7eb57",
   "metadata": {},
   "source": [
    "-Object\n",
    "-Classes\n",
    "-Pillars Of OOP\n",
    "-Methods\n",
    "-Attributes"
   ]
  },
  {
   "cell_type": "raw",
   "id": "0acd9afc",
   "metadata": {},
   "source": [
    "What is OOP?\n",
    "Ans) It is a programming paradigm/style that allows us to bind data and methods together"
   ]
  },
  {
   "cell_type": "raw",
   "id": "28aea9d2",
   "metadata": {},
   "source": [
    "Object: Everything in python is a object\n",
    "    Object belongs to a class"
   ]
  },
  {
   "cell_type": "raw",
   "id": "f00b8eb9",
   "metadata": {},
   "source": [
    "First Samsung designed and developed in the lab and launched in the ceremony is called : Class\n",
    "    copies:Objects/instance"
   ]
  },
  {
   "cell_type": "code",
   "execution_count": 4,
   "id": "7329c1df",
   "metadata": {},
   "outputs": [],
   "source": [
    "class SamsungGalaxy():\n",
    "    #attributes/characteristics\n",
    "    ram=\"4gb\"\n",
    "    weight=\"124\"\n",
    "    color=\"grey\"\n",
    "    processor=\"4cores\"\n",
    "    camera=\"24mpx\"\n",
    "    battery=\"5000mAh\"\n",
    "    screen=\"5.4inch\"\n",
    "    #behaviour/actions   #function inside class is method\n",
    "    \n",
    "    def makeCall():\n",
    "        print(\"call\")\n",
    "    def recieveCall():\n",
    "        print(\"call\")\n",
    "    #class\n",
    "    pass"
   ]
  },
  {
   "cell_type": "code",
   "execution_count": null,
   "id": "f4940710",
   "metadata": {},
   "outputs": [],
   "source": []
  }
 ],
 "metadata": {
  "kernelspec": {
   "display_name": "Python 3 (ipykernel)",
   "language": "python",
   "name": "python3"
  },
  "language_info": {
   "codemirror_mode": {
    "name": "ipython",
    "version": 3
   },
   "file_extension": ".py",
   "mimetype": "text/x-python",
   "name": "python",
   "nbconvert_exporter": "python",
   "pygments_lexer": "ipython3",
   "version": "3.9.12"
  }
 },
 "nbformat": 4,
 "nbformat_minor": 5
}
