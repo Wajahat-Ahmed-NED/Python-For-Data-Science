{
 "cells": [
  {
   "cell_type": "markdown",
   "id": "7721aa97",
   "metadata": {},
   "source": [
    "# Object Oriented Programming"
   ]
  },
  {
   "cell_type": "raw",
   "id": "88f54dca",
   "metadata": {},
   "source": [
    "-Object\n",
    "-Classes\n",
    "-Pillars Of OOP\n",
    "-Methods\n",
    "-Attributes"
   ]
  },
  {
   "cell_type": "raw",
   "id": "c751ffe8",
   "metadata": {},
   "source": [
    "What is OOP?\n",
    "Ans) It is a programming paradigm/style that allows us to bind data and methods together"
   ]
  },
  {
   "cell_type": "raw",
   "id": "5081a722",
   "metadata": {},
   "source": [
    "Object: Everything in python is a object\n",
    "    Object belongs to a class"
   ]
  },
  {
   "cell_type": "code",
   "execution_count": null,
   "id": "ce82d13a",
   "metadata": {},
   "outputs": [],
   "source": [
    "First Samsung designed and developed in the lab and launched in the ceremony is called : Class\n",
    "    copies:Objects/instance"
   ]
  }
 ],
 "metadata": {
  "kernelspec": {
   "display_name": "Python 3 (ipykernel)",
   "language": "python",
   "name": "python3"
  },
  "language_info": {
   "codemirror_mode": {
    "name": "ipython",
    "version": 3
   },
   "file_extension": ".py",
   "mimetype": "text/x-python",
   "name": "python",
   "nbconvert_exporter": "python",
   "pygments_lexer": "ipython3",
   "version": "3.9.12"
  }
 },
 "nbformat": 4,
 "nbformat_minor": 5
}
