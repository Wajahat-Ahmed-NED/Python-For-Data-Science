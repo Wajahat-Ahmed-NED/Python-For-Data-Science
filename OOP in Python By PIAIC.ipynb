{
 "cells": [
  {
   "cell_type": "markdown",
   "id": "235dcf17",
   "metadata": {},
   "source": [
    "# Object Oriented Programming"
   ]
  },
  {
   "cell_type": "raw",
   "id": "bed7eb57",
   "metadata": {},
   "source": [
    "-Object\n",
    "-Classes\n",
    "-Pillars Of OOP\n",
    "-Methods\n",
    "-Attributes"
   ]
  },
  {
   "cell_type": "raw",
   "id": "0acd9afc",
   "metadata": {},
   "source": [
    "What is OOP?\n",
    "Ans) It is a programming paradigm/style that allows us to bind data and methods together"
   ]
  },
  {
   "cell_type": "raw",
   "id": "28aea9d2",
   "metadata": {},
   "source": [
    "Object: Everything in python is a object\n",
    "    Object belongs to a class"
   ]
  },
  {
   "cell_type": "raw",
   "id": "f00b8eb9",
   "metadata": {},
   "source": [
    "First Samsung designed and developed in the lab and launched in the ceremony is called : Class\n",
    "    copies:Objects/instance"
   ]
  },
  {
   "cell_type": "code",
   "execution_count": 1,
   "id": "7329c1df",
   "metadata": {},
   "outputs": [],
   "source": [
    "class SamsungGalaxy():\n",
    "    #attributes/characteristics\n",
    "    \n",
    "    #class level attribute\n",
    "    ram=\"4gb\"\n",
    "    weight=\"124\"\n",
    "    processor=\"4cores\"\n",
    "    camera=\"24mpx\"\n",
    "    battery=\"5000mAh\"\n",
    "    screen=\"5.4inch\"\n",
    "    \n",
    "#     instance level attribute\n",
    "    color=\"grey\"\n",
    "\n",
    "    \n",
    "    #behaviour/actions   #function inside class is method\n",
    "    \n",
    "    def makeCall(self,message):\n",
    "        print(\"call \",message)\n",
    "    def recieveCall(self):\n",
    "        print(\"call\")\n",
    "    #class\n",
    "    pass"
   ]
  },
  {
   "cell_type": "code",
   "execution_count": 11,
   "id": "f4940710",
   "metadata": {},
   "outputs": [],
   "source": [
    "# Creating copies of phone\n",
    "apkaSamsung=SamsungGalaxy()"
   ]
  },
  {
   "cell_type": "code",
   "execution_count": 12,
   "id": "41c94dfd",
   "metadata": {},
   "outputs": [
    {
     "data": {
      "text/plain": [
       "'4gb'"
      ]
     },
     "execution_count": 12,
     "metadata": {},
     "output_type": "execute_result"
    }
   ],
   "source": [
    "apkaSamsung.ram"
   ]
  },
  {
   "cell_type": "code",
   "execution_count": 14,
   "id": "bb2f5006",
   "metadata": {},
   "outputs": [
    {
     "name": "stdout",
     "output_type": "stream",
     "text": [
      "call  ajao\n"
     ]
    }
   ],
   "source": [
    "apkaSamsung.makeCall(\"ajao\")"
   ]
  },
  {
   "cell_type": "code",
   "execution_count": 15,
   "id": "634bbc29",
   "metadata": {},
   "outputs": [],
   "source": [
    "meraSamsung=SamsungGalaxy()"
   ]
  },
  {
   "cell_type": "code",
   "execution_count": 16,
   "id": "f3ee5804",
   "metadata": {},
   "outputs": [
    {
     "data": {
      "text/plain": [
       "'4gb'"
      ]
     },
     "execution_count": 16,
     "metadata": {},
     "output_type": "execute_result"
    }
   ],
   "source": [
    "meraSamsung.ram"
   ]
  },
  {
   "cell_type": "code",
   "execution_count": 17,
   "id": "6aedb378",
   "metadata": {},
   "outputs": [],
   "source": [
    "#Every object has everything that is inside class"
   ]
  },
  {
   "cell_type": "code",
   "execution_count": 43,
   "id": "6b1a712c",
   "metadata": {},
   "outputs": [],
   "source": [
    "class Patient():\n",
    "    #some attributes same for every object (class attributes )\n",
    "    #some attributes different for every object (object/instance attributes)\n",
    "    name=\"Abdul\"\n",
    "    disease=\"fever\"\n",
    "    age=21\n",
    "    gender=\"male\"\n",
    "    con=\"111-222-333\"#if any object changes its value it will change only for\n",
    "#     that object and not for others\n",
    "    \n",
    "    def __init__(self,patient_id,name,age,gender,contact,*disease):\n",
    "        # self ma automatically object ka reference jaega taky different objects ma distinguish hosky\n",
    "        #these attributes are all instance level/object level attribute\n",
    "            #initializer/constructor (obj ko initialize krega)\n",
    "        self.name=name\n",
    "        self.age=age\n",
    "        self.gender=gender\n",
    "        self.disease=disease\n",
    "        self.contact=contact\n",
    "        \n",
    "    def admission(self):\n",
    "        print(f\"{self.name} is admitted in disease {self.disease}\")\n",
    "    def treatment(self):\n",
    "              print(f\"{self.name}is being treated his age is {self.age}\")\n",
    "    def discharge(self,bill):\n",
    "        if(bill==True):\n",
    "            print(f\"{self.name} is discharged\")\n",
    "        else:\n",
    "            print(f\"{self.name} is not discharged\")\n",
    "            \n",
    "    def patient_profile(self):\n",
    "        print(f\"\"\"\n",
    "                    Patient Profile\n",
    "                    _______________\n",
    "            \n",
    "            \n",
    "            Patient Name:{self.name}\n",
    "            Patient Age:{self.age}\n",
    "            Patient Gender:{self.gender}\n",
    "            Patient Disease:{self.disease}\n",
    "            Patient Contact:{self.contact}\n",
    "        \"\"\")\n",
    "    "
   ]
  },
  {
   "cell_type": "code",
   "execution_count": 44,
   "id": "cb3240ba",
   "metadata": {},
   "outputs": [],
   "source": [
    "p1=Patient(111,\"ali\",23,\"male\",\"0324513343\",\"fever\",\"high bp\",\"no other\")"
   ]
  },
  {
   "cell_type": "code",
   "execution_count": 45,
   "id": "ebf8a3c2",
   "metadata": {},
   "outputs": [
    {
     "data": {
      "text/plain": [
       "'111-222-333'"
      ]
     },
     "execution_count": 45,
     "metadata": {},
     "output_type": "execute_result"
    }
   ],
   "source": [
    "p1.contact\n",
    "p1.disease\n",
    "p1.age\n",
    "p1.con\n",
    "Patient.con"
   ]
  },
  {
   "cell_type": "code",
   "execution_count": 46,
   "id": "498126a5",
   "metadata": {},
   "outputs": [],
   "source": [
    "p2=Patient(112,\"sana\",\"21\",\"F\",\"fever\",\"04332020233\")\n"
   ]
  },
  {
   "cell_type": "code",
   "execution_count": 47,
   "id": "8e6b680b",
   "metadata": {},
   "outputs": [
    {
     "data": {
      "text/plain": [
       "<__main__.Patient at 0x2dbe96dca30>"
      ]
     },
     "execution_count": 47,
     "metadata": {},
     "output_type": "execute_result"
    }
   ],
   "source": [
    "p2"
   ]
  },
  {
   "cell_type": "code",
   "execution_count": 48,
   "id": "34dd77e8",
   "metadata": {},
   "outputs": [
    {
     "data": {
      "text/plain": [
       "'sana'"
      ]
     },
     "execution_count": 48,
     "metadata": {},
     "output_type": "execute_result"
    }
   ],
   "source": [
    "p2.name"
   ]
  },
  {
   "cell_type": "code",
   "execution_count": 49,
   "id": "32c4380a",
   "metadata": {},
   "outputs": [],
   "source": [
    "p1.con=\"hahahaha\""
   ]
  },
  {
   "cell_type": "code",
   "execution_count": 50,
   "id": "014363f5",
   "metadata": {},
   "outputs": [
    {
     "data": {
      "text/plain": [
       "'111-222-333'"
      ]
     },
     "execution_count": 50,
     "metadata": {},
     "output_type": "execute_result"
    }
   ],
   "source": [
    "p2.con"
   ]
  },
  {
   "cell_type": "code",
   "execution_count": 51,
   "id": "1cf103b4",
   "metadata": {},
   "outputs": [
    {
     "data": {
      "text/plain": [
       "'hahahaha'"
      ]
     },
     "execution_count": 51,
     "metadata": {},
     "output_type": "execute_result"
    }
   ],
   "source": [
    "p1.con"
   ]
  },
  {
   "cell_type": "code",
   "execution_count": 52,
   "id": "74705768",
   "metadata": {},
   "outputs": [
    {
     "name": "stdout",
     "output_type": "stream",
     "text": [
      "aliis being treated his age is 23\n"
     ]
    }
   ],
   "source": [
    "p1.treatment()"
   ]
  },
  {
   "cell_type": "code",
   "execution_count": 53,
   "id": "5dcc4ef9",
   "metadata": {},
   "outputs": [
    {
     "name": "stdout",
     "output_type": "stream",
     "text": [
      "ali is admitted in disease ('fever', 'high bp', 'no other')\n"
     ]
    }
   ],
   "source": [
    "p1.admission()"
   ]
  },
  {
   "cell_type": "code",
   "execution_count": 54,
   "id": "457c155b",
   "metadata": {},
   "outputs": [
    {
     "name": "stdout",
     "output_type": "stream",
     "text": [
      "sana is discharged\n"
     ]
    }
   ],
   "source": [
    "p2.discharge(True)"
   ]
  },
  {
   "cell_type": "code",
   "execution_count": 55,
   "id": "0a6a7e29",
   "metadata": {},
   "outputs": [
    {
     "name": "stdout",
     "output_type": "stream",
     "text": [
      "ali is not discharged\n"
     ]
    }
   ],
   "source": [
    "p1.discharge(False)"
   ]
  },
  {
   "cell_type": "code",
   "execution_count": 56,
   "id": "37215586",
   "metadata": {},
   "outputs": [
    {
     "name": "stdout",
     "output_type": "stream",
     "text": [
      "\n",
      "                    Patient Profile\n",
      "                    _______________\n",
      "            \n",
      "            \n",
      "            Patient Name:ali\n",
      "            Patient Age:23\n",
      "            Patient Gender:male\n",
      "            Patient Disease:('fever', 'high bp', 'no other')\n",
      "            Patient Contact:0324513343\n",
      "        \n"
     ]
    }
   ],
   "source": [
    "p1.patient_profile()"
   ]
  },
  {
   "cell_type": "code",
   "execution_count": 57,
   "id": "191ee78e",
   "metadata": {},
   "outputs": [
    {
     "name": "stdout",
     "output_type": "stream",
     "text": [
      "\n",
      "                    Patient Profile\n",
      "                    _______________\n",
      "            \n",
      "            \n",
      "            Patient Name:sana\n",
      "            Patient Age:21\n",
      "            Patient Gender:F\n",
      "            Patient Disease:('04332020233',)\n",
      "            Patient Contact:fever\n",
      "        \n"
     ]
    }
   ],
   "source": [
    "p2.patient_profile()"
   ]
  },
  {
   "cell_type": "code",
   "execution_count": 59,
   "id": "746a72af",
   "metadata": {},
   "outputs": [
    {
     "data": {
      "text/plain": [
       "('fever', 'high bp', 'no other')"
      ]
     },
     "execution_count": 59,
     "metadata": {},
     "output_type": "execute_result"
    }
   ],
   "source": [
    "p1.disease # tuple ki form ma deta ha"
   ]
  },
  {
   "cell_type": "code",
   "execution_count": null,
   "id": "c5b95acf",
   "metadata": {},
   "outputs": [],
   "source": []
  },
  {
   "cell_type": "code",
   "execution_count": null,
   "id": "e852a9e7",
   "metadata": {},
   "outputs": [],
   "source": []
  }
 ],
 "metadata": {
  "kernelspec": {
   "display_name": "Python 3 (ipykernel)",
   "language": "python",
   "name": "python3"
  },
  "language_info": {
   "codemirror_mode": {
    "name": "ipython",
    "version": 3
   },
   "file_extension": ".py",
   "mimetype": "text/x-python",
   "name": "python",
   "nbconvert_exporter": "python",
   "pygments_lexer": "ipython3",
   "version": "3.9.12"
  }
 },
 "nbformat": 4,
 "nbformat_minor": 5
}
